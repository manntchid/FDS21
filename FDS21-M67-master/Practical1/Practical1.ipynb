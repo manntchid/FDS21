{
 "cells": [
  {
   "cell_type": "markdown",
   "metadata": {
    "cell_id": "00000-00ceb18c-6de8-4266-b1bc-46fc26a7c824",
    "deepnote_cell_type": "markdown",
    "id": "id1w7kwZVF3I"
   },
   "source": [
    "# Practical 1 : Implementation of Linear Regression (Ridge, Lasso)\n",
    "\n",
    "- Train a linear model\n",
    "    - using least squares method\n",
    "    - implement the model from scratch using NumPy \n",
    "    - Use learning curves plot to understand whether the linear moel is overfitting or underfitting\n",
    "- Train linear models with \n",
    "    - regularization (Ridge and Lasso)\n",
    "    - polynomial basis expansion\n",
    "    - use validation data to choose the hyperparameters\n",
    "    - scikit-learn\n",
    "    - Optional task: Use k-fold cross validation to choose the optimal hyperparameters (5 bonus points)\n",
    "\n",
    "We will use the following packages:"
   ]
  },
  {
   "cell_type": "code",
   "execution_count": 1,
   "metadata": {
    "cell_id": "00001-18d1a6a8-2b9f-4f1c-850e-1427e4d9d503",
    "deepnote_cell_type": "code",
    "deepnote_to_be_reexecuted": false,
    "execution_millis": 2181,
    "execution_start": 1636110868479,
    "id": "CTZv9o5i4gy3",
    "source_hash": "899b3101"
   },
   "outputs": [],
   "source": [
    "import numpy as np\n",
    "import matplotlib.pyplot as plt\n",
    "import _pickle as cp"
   ]
  },
  {
   "cell_type": "markdown",
   "metadata": {
    "cell_id": "00002-292e5684-341b-4e01-875b-24c171af1319",
    "deepnote_cell_type": "markdown",
    "id": "b1-ZQWqTVPno"
   },
   "source": [
    "We will use the winequality dataset for this practical. The dataset is available here:\n",
    "https://archive.ics.uci.edu/ml/datasets/Wine+Quality. \n",
    "In order to make it easier to import the dataset, the dataset has been converted to the numpy array format and shuffled, so that we can start the practical directly. The converted dataset is available on the OLAT page."
   ]
  },
  {
   "cell_type": "markdown",
   "metadata": {
    "cell_id": "00003-a2169ff6-65fa-4398-bba3-0196d9543dbb",
    "deepnote_cell_type": "markdown",
    "id": "TzDL9RQiVaPY"
   },
   "source": [
    "The dataset has two files. We’ll focus on the white wine data, which is the larger dataset. The following code loads the data:"
   ]
  },
  {
   "cell_type": "code",
   "execution_count": 2,
   "metadata": {
    "cell_id": "00004-8a3aef35-1567-44b4-bb4d-04fea8a748bb",
    "deepnote_cell_type": "code",
    "deepnote_to_be_reexecuted": false,
    "execution_millis": 54,
    "execution_start": 1636110870665,
    "id": "zKIjFQpIMkpD",
    "source_hash": "4db49ab9"
   },
   "outputs": [
    {
     "name": "stdout",
     "output_type": "stream",
     "text": [
      "X is a (4898, 11) matrix, which contains 4898 data records and 11 features.\n",
      "y is a 4898-dimentional vector, which stores the corresponding labels of the data records in X\n"
     ]
    }
   ],
   "source": [
    "# load the white wine dataset\n",
    "# X is the feature matrix that stores the feature values of the data records\n",
    "# y is the label vector that stores the labels of the data records\n",
    "X, y = cp.load(open('winequality-white.pickle', 'rb'))\n",
    "\n",
    "# check the size of the data\n",
    "print(\"X is a {} matrix, which contains {} data records and {} features.\".format(X.shape, X.shape[0], X.shape[1]))\n",
    "print(\"y is a {}-dimentional vector, which stores the corresponding labels of the data records in X\".format(y.shape[0]))\n"
   ]
  },
  {
   "cell_type": "markdown",
   "metadata": {
    "cell_id": "00005-20f273cf-9fd2-4c44-8d5b-5e711288451b",
    "deepnote_cell_type": "markdown",
    "id": "CGuNg0KbWN0z"
   },
   "source": [
    "We next split the data into training data and test data. \n",
    "In practice, we should sample randomly 80% of the data as training data and the rest as the test data. . \n",
    "However, in order to get consistent results, we use the first 80% of the data as training\n",
    "data and the remaining as the test data. \n",
    "To achieve this split, we define the following function."
   ]
  },
  {
   "cell_type": "code",
   "execution_count": 3,
   "metadata": {
    "cell_id": "00006-1af3541b-0a1f-4b8f-b97e-40327491a02f",
    "colab": {
     "base_uri": "https://localhost:8080/"
    },
    "deepnote_cell_type": "code",
    "deepnote_to_be_reexecuted": false,
    "executionInfo": {
     "elapsed": 360,
     "status": "ok",
     "timestamp": 1635271549847,
     "user": {
      "displayName": "Mann-tchi Dang",
      "photoUrl": "https://lh3.googleusercontent.com/a-/AOh14GgQGNWcgkhl0mn9fKEcstRR6vF1AdnFegPuOaj8JQ=s64",
      "userId": "14724034695779312154"
     },
     "user_tz": -120
    },
    "execution_millis": 167,
    "execution_start": 1636110870727,
    "id": "6ZqbBa8bWNYg",
    "outputId": "5d12d8d9-f105-4fc2-fe91-c646659f0f82",
    "source_hash": "50258c2b"
   },
   "outputs": [
    {
     "name": "stdout",
     "output_type": "stream",
     "text": [
      "Shape of X_train: (3918, 11)\n",
      "Shape of y_train: (3918,)\n",
      "Shape of X_test: (980, 11)\n",
      "Shape of y_test: (980,)\n"
     ]
    }
   ],
   "source": [
    "# The function splits the dataset into training data and testing data.\n",
    "# The parameter split_coeff is a percentage value such that\n",
    "# the first split_coeff of the dataset goes to the training dataset \n",
    "# and the remaining data goes to the test dataset.\n",
    "def split_data(X, y, split_coeff):\n",
    "    N, _ = X.shape # get the number of records (rows)\n",
    "    train_size = int(split_coeff * N) # use the first split_coeff of the data as the training data\n",
    "    X_train = X[:train_size] # the first training_size records\n",
    "    y_train = y[:train_size]\n",
    "    X_test = X[train_size:] # the last test_size records\n",
    "    y_test = y[train_size:]\n",
    "    return X_train, y_train, X_test, y_test\n",
    "\n",
    "X_train, y_train, X_test, y_test = split_data(X, y, 0.8) # split the data with split_coeff=0.8\n",
    "\n",
    "# check the size of the splitted dataset\n",
    "print(\"Shape of X_train:\", X_train.shape)\n",
    "print(\"Shape of y_train:\", y_train.shape)\n",
    "print(\"Shape of X_test:\", X_test.shape)\n",
    "print(\"Shape of y_test:\", y_test.shape)\n"
   ]
  },
  {
   "cell_type": "markdown",
   "metadata": {
    "cell_id": "00007-2ec0bf07-3a51-473a-a251-27826417bb74",
    "deepnote_cell_type": "markdown",
    "id": "q2yKNR49Wkn8"
   },
   "source": [
    "## Understanding What We’re Predicting\n",
    "\n",
    "Let’s first check\n",
    "the distribution of the y-values in the training data. \n",
    "You will find that the values are integers between 3 and 9 indicating the quality of the wine. HI Davide. Hi!\n"
   ]
  },
  {
   "cell_type": "markdown",
   "metadata": {
    "cell_id": "00008-80418227-4f70-476b-a9d7-f816dfa2c8b9",
    "deepnote_cell_type": "markdown",
    "id": "-PMpsZNSWthB"
   },
   "source": [
    "### **Task 1**\n",
    "Make a bar chart showing the distribution of y-values in the training data. You will find that the y-values are integers from 3 to 9, which indicate the quality of the wines."
   ]
  },
  {
   "cell_type": "code",
   "execution_count": 4,
   "metadata": {
    "cell_id": "00009-a1912895-8f88-49d0-8103-d513af6a52df",
    "colab": {
     "base_uri": "https://localhost:8080/",
     "height": 295
    },
    "deepnote_cell_type": "code",
    "deepnote_to_be_reexecuted": false,
    "executionInfo": {
     "elapsed": 752,
     "status": "ok",
     "timestamp": 1635271711822,
     "user": {
      "displayName": "Mann-tchi Dang",
      "photoUrl": "https://lh3.googleusercontent.com/a-/AOh14GgQGNWcgkhl0mn9fKEcstRR6vF1AdnFegPuOaj8JQ=s64",
      "userId": "14724034695779312154"
     },
     "user_tz": -120
    },
    "execution_millis": 757,
    "execution_start": 1636110870943,
    "id": "4L_JDK3dWrsR",
    "outputId": "0e690604-6027-4864-d070-a14a6dff9dfd",
    "source_hash": "eb9303b"
   },
   "outputs": [
    {
     "data": {
      "image/png": "[encoded data removed]",
      "text/plain": [
       "<Figure size 432x288 with 1 Axes>"
      ]
     },
     "metadata": {
      "needs_background": "light"
     },
     "output_type": "display_data"
    }
   ],
   "source": [
    "#@title\n",
    "# Task 1: \n",
    "# the function takes the y-values in the training data as the input and makes the bar chart. \n",
    "# Hint: Your function should make a bar chart looks like the bar chart below.\n",
    "def plot_bar_chart_score(y_train):\n",
    "    ###################################################\n",
    "    ##### YOUR CODE STARTS HERE #######################\n",
    "    ###################################################\n",
    "    unique, counts = np.unique(y_train, return_counts=True)\n",
    "    plt.bar(unique, counts)\n",
    "    plt.title(\"Distribution of scores of wines\")\n",
    "    plt.xlabel('Score')\n",
    "    plt.ylabel('Number of wines')\n",
    "    pass\n",
    "    ###################################################\n",
    "    ##### YOUR CODE ENDS HERE #########################\n",
    "    ###################################################\n",
    "\n",
    "plot_bar_chart_score(y_train)"
   ]
  },
  {
   "cell_type": "markdown",
   "metadata": {
    "cell_id": "00010-1338e5f0-f852-4aaa-aa25-e12e44c5f952",
    "deepnote_cell_type": "markdown",
    "id": "GxjlElni2FcH"
   },
   "source": [
    "### **Task 2** \n",
    "This task is to build a trivial predictor, which always returns the mean of the y-values of the training data. We consider the trivial model as a baseline. The linear regression models we build later should perform better than this trivial model. "
   ]
  },
  {
   "cell_type": "code",
   "execution_count": 5,
   "metadata": {
    "cell_id": "00011-05144fd4-940a-4f06-9612-a671cf0beda0",
    "colab": {
     "base_uri": "https://localhost:8080/"
    },
    "deepnote_cell_type": "code",
    "deepnote_to_be_reexecuted": false,
    "executionInfo": {
     "elapsed": 422,
     "status": "ok",
     "timestamp": 1635271878124,
     "user": {
      "displayName": "Mann-tchi Dang",
      "photoUrl": "https://lh3.googleusercontent.com/a-/AOh14GgQGNWcgkhl0mn9fKEcstRR6vF1AdnFegPuOaj8JQ=s64",
      "userId": "14724034695779312154"
     },
     "user_tz": -120
    },
    "execution_millis": 12,
    "execution_start": 1636110871708,
    "id": "-V3xFYexX1lt",
    "outputId": "ae412e8e-8a9e-47bd-d946-5461b1986668",
    "source_hash": "9bd58877"
   },
   "outputs": [
    {
     "name": "stdout",
     "output_type": "stream",
     "text": [
      "Average of y on the training label values is 5.878764675855028\n"
     ]
    }
   ],
   "source": [
    "#@title\n",
    "# Task 2: implement the trivial predictor\n",
    "# The function computes the average value of y on the training label values\n",
    "def compute_average(y_train):\n",
    "    # The code below is just for compilation. \n",
    "    # You need to delete it and write your own code.\n",
    "    ###################################################\n",
    "    ##### YOUR CODE STARTS HERE #######################\n",
    "    ###################################################\n",
    "    # Hint: return the mean of y_train\n",
    "    return y_train.mean()\n",
    "    ###################################################\n",
    "    ##### YOUR CODE ENDS HERE #########################\n",
    "    ###################################################\n",
    "\n",
    "y_train_avg = compute_average(y_train)\n",
    "print(\"Average of y on the training label values is {}\".format(y_train_avg))\n",
    "\n",
    "# The trivial predictor returns the average value.\n",
    "def trivial_predictor(X_test, y_train_avg):\n",
    "  return y_train_avg\n"
   ]
  },
  {
   "cell_type": "markdown",
   "metadata": {
    "cell_id": "00012-11aa3b96-17a7-4411-a352-2cef656d154f",
    "deepnote_cell_type": "markdown",
    "id": "x531Q_SxXV14"
   },
   "source": [
    "### **Task 3**\n",
    "We next evaluate the trivial predictor on the training data and test data. \n",
    "We use mean squared error (MSE) to measure the performance of the predictor.\n",
    "The task is to implement a function that reports the mean squared error of the given predictor on the given data. "
   ]
  },
  {
   "cell_type": "code",
   "execution_count": 6,
   "metadata": {
    "cell_id": "00013-e50258ce-06df-4b4e-9b80-d08eb3cd7f71",
    "colab": {
     "base_uri": "https://localhost:8080/"
    },
    "deepnote_cell_type": "code",
    "deepnote_to_be_reexecuted": false,
    "executionInfo": {
     "elapsed": 293,
     "status": "ok",
     "timestamp": 1635272282598,
     "user": {
      "displayName": "Mann-tchi Dang",
      "photoUrl": "https://lh3.googleusercontent.com/a-/AOh14GgQGNWcgkhl0mn9fKEcstRR6vF1AdnFegPuOaj8JQ=s64",
      "userId": "14724034695779312154"
     },
     "user_tz": -120
    },
    "execution_millis": 101,
    "execution_start": 1636110871727,
    "id": "mV8l6Ci9YlgL",
    "outputId": "8587dfe7-5181-4da5-a860-36010925cb33",
    "source_hash": "5e658b0"
   },
   "outputs": [
    {
     "name": "stdout",
     "output_type": "stream",
     "text": [
      "Trivial Predictor\n",
      "--------------------------------------------------------------------------------\n",
      "\n",
      "MSE (Training) = 0.7768\n",
      "MSE (Testing)  = 0.8139\n"
     ]
    }
   ],
   "source": [
    "# We next test our trivial predictor on the training data and test data. \n",
    "# Implement a function that can report the mean squared error \n",
    "# of a predictor on the given data\n",
    "# Input: data and predictor\n",
    "# Output: mean squared error of the predictor on the given data\n",
    "def test_predictor(X, y, predictor: callable=None):\n",
    "    # Apply the predictor to each row of the matrix X to get the predictions\n",
    "    y_predicted = np.apply_along_axis(predictor, 1, X)\n",
    "\n",
    "    # TODO: compute the mean squared error of y\n",
    "    # The code below is just for compilation. \n",
    "    # You need to delete it and write your own code.\n",
    "    ###################################################\n",
    "    ##### YOUR CODE STARTS HERE #######################\n",
    "    ###################################################\n",
    "    n = len(y)\n",
    "    sum = 0\n",
    "    for i in range (0,n):\n",
    "      sq_difference = (y[i] - y_predicted[i])**2\n",
    "      sum = sum + sq_difference\n",
    "    mse = sum/n\n",
    "    ###################################################\n",
    "    ##### YOUR CODE ENDS HERE #########################\n",
    "    ###################################################\n",
    "    \n",
    "    return mse\n",
    "\n",
    "# use the function test_predictor to test the trivial predictor\n",
    "# we use the lambda function here to pass the function trivial predictor to the function test_predictor.\n",
    "mse_trivial_predictor_train = test_predictor(X_train, y_train, lambda x: trivial_predictor(x, y_train_avg))\n",
    "mse_trivial_predictor_test = test_predictor(X_test, y_test, lambda x: trivial_predictor(x, y_train_avg))\n",
    "\n",
    "# Report the result\n",
    "print('Trivial Predictor')\n",
    "print('--------------------------------------------------------------------------------\\n')\n",
    "print('MSE (Training) = %.4f' % mse_trivial_predictor_train)\n",
    "print('MSE (Testing)  = %.4f' % mse_trivial_predictor_test)"
   ]
  },
  {
   "cell_type": "markdown",
   "metadata": {
    "cell_id": "00014-3baa4004-e622-4912-8b99-891decbfad46",
    "deepnote_cell_type": "markdown",
    "id": "geiyM1Nea0az"
   },
   "source": [
    "## Train the Linear Model Using Least Squares Method\n",
    "\n",
    "Let us train a linear model on the training data and then check its MSE. \n",
    "We use the closed form solution of the least squares estimate to get the parameters of the linear model. \n",
    "The linear model should perform better than the trivial predictor."
   ]
  },
  {
   "cell_type": "markdown",
   "metadata": {
    "cell_id": "00015-f6950564-f99f-4bee-9d5f-8a6c0dd41321",
    "deepnote_cell_type": "markdown",
    "id": "WSEwFGp_bqAI"
   },
   "source": [
    "### **Task 4**\n",
    "Before training the model, we need to standardize the data, i.e., transform the data so that every feature has mean 0 and variance 1. \n",
    "\n",
    "https://en.wikipedia.org/wiki/Standard_score\n",
    "\n",
    "We first standardize the training data. \n",
    "Then we apply the same transformation to the test data, i.e. standardize the test data using the means and the standard deviations of the training data. "
   ]
  },
  {
   "cell_type": "code",
   "execution_count": 7,
   "metadata": {
    "cell_id": "00016-892c0ebc-c245-4508-834a-0a62a6aee2c5",
    "colab": {
     "base_uri": "https://localhost:8080/"
    },
    "deepnote_cell_type": "code",
    "deepnote_to_be_reexecuted": false,
    "executionInfo": {
     "elapsed": 334,
     "status": "ok",
     "timestamp": 1635272909000,
     "user": {
      "displayName": "Mann-tchi Dang",
      "photoUrl": "https://lh3.googleusercontent.com/a-/AOh14GgQGNWcgkhl0mn9fKEcstRR6vF1AdnFegPuOaj8JQ=s64",
      "userId": "14724034695779312154"
     },
     "user_tz": -120
    },
    "execution_millis": 23,
    "execution_start": 1636110871833,
    "id": "trjwkcgybhDH",
    "outputId": "94ebf873-d47e-47e9-f921-b1662dda897f",
    "source_hash": "880a9e0d"
   },
   "outputs": [
    {
     "name": "stdout",
     "output_type": "stream",
     "text": [
      "X_train_std: (3918, 11)\n",
      "Mean: [6.854275140377744, 0.27839076059213885, 0.33489280245022973, 6.426237876467585, 0.045821337417049524, 35.32631444614599, 138.5132720775906, 0.9940407286881061, 3.1864752424706486, 0.48905564063297596, 10.511579887697804]\n",
      "Standard deviation: [0.8391009024556929, 0.09956301759730633, 0.12424997545459252, 5.063775321533097, 0.021666028200778297, 17.100467747622996, 42.39561787460909, 0.00297972269371555, 0.14994947515467585, 0.11299205349366911, 1.2253654442746744]\n"
     ]
    }
   ],
   "source": [
    "# The task is to implement a function that can standardize the data and returns the mean and std of the data.\n",
    "# Input: training data\n",
    "# Output: standardize training data, standard deviations and means\n",
    "def standardize_data(X):\n",
    "    # TODO: compute the means and standard deviations of the data, and standardize the data\n",
    "    # The code below is just for compilation. \n",
    "    # You need to replace it by your own code.\n",
    "    ###################################################\n",
    "    ##### YOUR CODE STARTS HERE #######################\n",
    "    ###################################################\n",
    "    mean=[]\n",
    "    std=[]\n",
    "    X_std=[]\n",
    "\n",
    "    for i in range(0, X.shape[1]):\n",
    "        mean.append(X[:,i].mean())\n",
    "        std.append(X[:,i].std())\n",
    "        \n",
    "    X_std = (X-mean)/std\n",
    "    \n",
    "    ###################################################\n",
    "    ##### YOUR CODE ENDS HERE #########################\n",
    "    ###################################################\n",
    "    \n",
    "    return X_std, mean, std\n",
    "\n",
    "# Standardize the training data and store the means and the stds \n",
    "X_train_std, X_train_mean, X_train_std_div = standardize_data(X_train)\n",
    "print(\"X_train_std:\", X_train_std.shape)\n",
    "print(\"Mean:\", X_train_mean)\n",
    "print(\"Standard deviation:\", X_train_std_div)"
   ]
  },
  {
   "cell_type": "code",
   "execution_count": 8,
   "metadata": {
    "cell_id": "00017-79455ddd-f694-4a79-9579-bbf79ea69097",
    "colab": {
     "base_uri": "https://localhost:8080/"
    },
    "deepnote_cell_type": "code",
    "deepnote_to_be_reexecuted": false,
    "executionInfo": {
     "elapsed": 229,
     "status": "ok",
     "timestamp": 1635273027848,
     "user": {
      "displayName": "Mann-tchi Dang",
      "photoUrl": "https://lh3.googleusercontent.com/a-/AOh14GgQGNWcgkhl0mn9fKEcstRR6vF1AdnFegPuOaj8JQ=s64",
      "userId": "14724034695779312154"
     },
     "user_tz": -120
    },
    "execution_millis": 30,
    "execution_start": 1636110871864,
    "id": "RjzbA5JpM759",
    "outputId": "d250cd15-1c6c-480f-b0d2-1b0f809ab9f7",
    "source_hash": "50b9a78b"
   },
   "outputs": [
    {
     "name": "stdout",
     "output_type": "stream",
     "text": [
      "(980, 11)\n"
     ]
    }
   ],
   "source": [
    "# TODO: Standardize the test data using the means and standrad deviations of the training data\n",
    "###################################################\n",
    "##### YOUR CODE STARTS HERE #######################\n",
    "###################################################\n",
    "X_test_std = (X_test-X_train_mean)/X_train_std_div\n",
    "print(X_test_std.shape)\n",
    "###################################################\n",
    "##### YOUR CODE ENDS HERE #########################\n",
    "###################################################"
   ]
  },
  {
   "cell_type": "markdown",
   "metadata": {
    "cell_id": "00018-5dd1beb7-fa69-46d2-9947-40af273ef5e3",
    "deepnote_cell_type": "markdown",
    "id": "cRPPA6HMbNOr"
   },
   "source": [
    "### **Task 5**\n",
    "We have standardized X-values. Do we need to standardize the y-values? Why?"
   ]
  },
  {
   "cell_type": "markdown",
   "metadata": {
    "cell_id": "00019-e39d2dfe-cf60-44f5-8b9f-908aeec8e806",
    "deepnote_cell_type": "markdown",
    "id": "9he5QMmfqL3_"
   },
   "source": [
    "No, because we only need to standardize independant variables (X) in order to get the same weigth in each feature. For example, if a feature has a large scale and high variance, the model will weigh more than another feature with small scale and small variance. Furtheremore by standardizing X-values, the model will compute more efficiently, the standardization of y-values is not mandatory because it will only change the interpreation of the coefficients. The fact that y-values are explained by X-values, the model does not need to attribute a \"weight\" on y-values, this why we do not need to standardize y-values.\n"
   ]
  },
  {
   "cell_type": "markdown",
   "metadata": {
    "cell_id": "00020-6f9db6f7-1914-4e74-90fb-278c2caa2f95",
    "deepnote_cell_type": "markdown",
    "id": "vT4_Sl42bxmD"
   },
   "source": [
    "### **Task 6**\n",
    "Let's now train the linear model using the least-squares method. \n",
    "We need to add the bias term to the matrix X. "
   ]
  },
  {
   "cell_type": "code",
   "execution_count": 9,
   "metadata": {
    "cell_id": "00021-9c8c1903-702b-402d-beb5-70bfc38aa6e8",
    "colab": {
     "base_uri": "https://localhost:8080/",
     "height": 34
    },
    "deepnote_cell_type": "code",
    "deepnote_to_be_reexecuted": false,
    "executionInfo": {
     "elapsed": 1374,
     "status": "ok",
     "timestamp": 1596436129242,
     "user": {
      "displayName": "Haozhe Zhang",
      "photoUrl": "https://lh3.googleusercontent.com/a-/AOh14GhewCb1FImnjURCLugyfalL8wVXJomnuoEHUckN=s64",
      "userId": "15943369882491692800"
     },
     "user_tz": -480
    },
    "execution_millis": 3,
    "execution_start": 1636110871947,
    "id": "A4JtLr6pdJV7",
    "outputId": "dfd57312-284f-4ce9-820b-4fdbdfbec8c4",
    "source_hash": "c92deccd"
   },
   "outputs": [
    {
     "name": "stdout",
     "output_type": "stream",
     "text": [
      "w: (12,)\n"
     ]
    }
   ],
   "source": [
    "# The task is to implement the function that adds a column of ones to the front of the input matrix\n",
    "def expand_with_ones(X):\n",
    "    # TODO: add a column of ones to the front of the input matrix\n",
    "    # The code below is just for compilation. \n",
    "    # You need to replace it by your own code.\n",
    "    ###################################################\n",
    "    ##### YOUR CODE STARTS HERE #######################\n",
    "    ###################################################\n",
    "    n,_ = X.shape\n",
    "    one_col = np.ones((n,1))\n",
    "    X_out = np.hstack((one_col, X))\n",
    "    return X_out\n",
    "    ###################################################\n",
    "    ##### YOUR CODE ENDS HERE #########################\n",
    "    ###################################################\n",
    "\n",
    "# Train the linear model using the least-squares method\n",
    "# The task is to implement the function that computes the parameters\n",
    "def least_squares_compute_parameters(X_input, y):\n",
    "    # add the bias column to the data\n",
    "    X = expand_with_ones(X_input)\n",
    "\n",
    "    # TODO: compute the parameters based on the expanded X and y using the least-squares method\n",
    "    # The code below is just for compilation. \n",
    "    # You need to replace it by your own code.\n",
    "    ###################################################\n",
    "    ##### YOUR CODE STARTS HERE #######################\n",
    "    ###################################################\n",
    "    #w = np.dot(np.dot(np.linalg.inv(np.dot(np.transpose(X),X)),np.transpose(X)),y) \n",
    "    w = np.linalg.lstsq(X, y, rcond=None)\n",
    "    return w[0]\n",
    "    ###################################################\n",
    "    ##### YOUR CODE ENDS HERE #########################\n",
    "    ###################################################\n",
    "\n",
    "# Apply the function to train the linear model\n",
    "w = least_squares_compute_parameters(X_train_std, y_train) \n",
    "print(\"w:\", w.shape)"
   ]
  },
  {
   "cell_type": "markdown",
   "metadata": {
    "cell_id": "00022-7e29f970-c2d5-4d17-a249-8e58ec508731",
    "deepnote_cell_type": "markdown",
    "id": "lasj_1PpeZib"
   },
   "source": [
    "After computing the parameters,\n",
    "we can build the linear model predictor.\n",
    "The predictor takes as input the computed parameters and the data, and predicts the labels for the input data."
   ]
  },
  {
   "cell_type": "code",
   "execution_count": 10,
   "metadata": {
    "cell_id": "00023-254f5f46-4590-4252-a116-90b54248f7b1",
    "deepnote_cell_type": "code",
    "deepnote_to_be_reexecuted": false,
    "execution_millis": 0,
    "execution_start": 1636110871949,
    "id": "Lb-hNagxc3Wj",
    "source_hash": "e747eb0a"
   },
   "outputs": [],
   "source": [
    "# Implement the linear model predictor\n",
    "# Input: test data and parameters\n",
    "# Output: predicted values\n",
    "def linear_model_predictor(X, w):\n",
    "    # TODO: predict the labels for the input data\n",
    "    # The code below is just for compilation. \n",
    "    # You need to replace it by your own code.\n",
    "    ###################################################\n",
    "    ##### YOUR CODE STARTS HERE #######################\n",
    "    ###################################################\n",
    "    return np.dot(X,w)\n",
    "    ###################################################\n",
    "    ##### YOUR CODE ENDS HERE #########################\n",
    "    ###################################################\n"
   ]
  },
  {
   "cell_type": "markdown",
   "metadata": {
    "cell_id": "00024-187a714d-a5da-4655-9f38-f2411f3a6757",
    "deepnote_cell_type": "markdown",
    "id": "cFOYpwbufz7J"
   },
   "source": [
    "We can now evaluate our linear model predictor on the test data. "
   ]
  },
  {
   "cell_type": "code",
   "execution_count": 11,
   "metadata": {
    "cell_id": "00025-d747a7ae-c193-4e77-aabc-cea7883c59e2",
    "colab": {
     "base_uri": "https://localhost:8080/",
     "height": 34
    },
    "deepnote_cell_type": "code",
    "deepnote_to_be_reexecuted": false,
    "executionInfo": {
     "elapsed": 1363,
     "status": "ok",
     "timestamp": 1596436129243,
     "user": {
      "displayName": "Haozhe Zhang",
      "photoUrl": "https://lh3.googleusercontent.com/a-/AOh14GhewCb1FImnjURCLugyfalL8wVXJomnuoEHUckN=s64",
      "userId": "15943369882491692800"
     },
     "user_tz": -480
    },
    "execution_millis": 28,
    "execution_start": 1636110871991,
    "id": "LuHHmn2RB55j",
    "outputId": "b6cb4556-2618-419a-a082-214f2e6ecb5e",
    "source_hash": "e48440e7"
   },
   "outputs": [
    {
     "name": "stdout",
     "output_type": "stream",
     "text": [
      "Mean squared error is 0.5607292042283482\n"
     ]
    }
   ],
   "source": [
    "# use the function test_predictor to evaluate the linear model predictor\n",
    "mse_linear_model_predictor = test_predictor(expand_with_ones(X_test_std), y_test, lambda x: linear_model_predictor(x, w))\n",
    "print(\"Mean squared error is {}\".format(mse_linear_model_predictor))"
   ]
  },
  {
   "cell_type": "markdown",
   "metadata": {
    "cell_id": "00026-9ad322ca-a87f-4f31-b35c-1a2c14a19292",
    "deepnote_cell_type": "markdown",
    "id": "zqj4HKAihF7Q"
   },
   "source": [
    "## Learning Curves\n",
    "\n",
    "Let us check if the linear model is overfitting or underfitting. Since the dataset is somewhat large and there are only 11 features, the model shouldn't be overfitting. \n",
    "To check it, we need to check the learning curves, i.e. how the performance of the model changes when it is trained with increasingly more data. \n",
    "We train the model on the increasingly more data ([20, 40, ..., 600] data records), and evaluate the model by computing the MSE of the model on both the training data and the test data. \n",
    "We use the collected MSE to build the learning curves plot. "
   ]
  },
  {
   "cell_type": "markdown",
   "metadata": {
    "cell_id": "00027-0833cd2c-0680-4918-b3ef-9be880a03428",
    "deepnote_cell_type": "markdown",
    "id": "MNf11kurCgKF"
   },
   "source": [
    "### **Task 7** \n",
    "\n",
    "Let's first implement a function that comprises what we have implemented above. \n",
    "The function takes as inputs the data and the split coefficient, and\n",
    "1. standardizes the data,\n",
    "2. trains the linear model, and\n",
    "3. reports the mse of the linear model predictor on both training and test datasets. "
   ]
  },
  {
   "cell_type": "code",
   "execution_count": 12,
   "metadata": {
    "cell_id": "00028-b2c3a2d4-c3b1-4e3e-8595-8526d7ad60ce",
    "colab": {
     "base_uri": "https://localhost:8080/",
     "height": 102
    },
    "deepnote_cell_type": "code",
    "deepnote_to_be_reexecuted": false,
    "executionInfo": {
     "elapsed": 1355,
     "status": "ok",
     "timestamp": 1596436129244,
     "user": {
      "displayName": "Haozhe Zhang",
      "photoUrl": "https://lh3.googleusercontent.com/a-/AOh14GhewCb1FImnjURCLugyfalL8wVXJomnuoEHUckN=s64",
      "userId": "15943369882491692800"
     },
     "user_tz": -480
    },
    "execution_millis": 204,
    "execution_start": 1636110872037,
    "id": "UcGRQBrEb106",
    "outputId": "179c5ec0-ee87-4c4b-a02b-d97d55862e1f",
    "source_hash": "ac78b857"
   },
   "outputs": [
    {
     "name": "stdout",
     "output_type": "stream",
     "text": [
      "Linear Model\n",
      "-----------------------\n",
      "\n",
      "MSE (Training) = 0.5640\n",
      "MSE (Testing)  = 0.5607\n"
     ]
    }
   ],
   "source": [
    "# Input: training data and test data\n",
    "# Output: mse of the linear model predictor on both the training and test data\n",
    "def train_and_test(X_train, y_train, X_test, y_test):\n",
    "    # TODO: implement the function \n",
    "    # The code below is just for compilation. \n",
    "    # You need to replace it by your own code.\n",
    "    ###################################################\n",
    "    ##### YOUR CODE STARTS HERE #######################\n",
    "    ###################################################\n",
    "    # Hints: use the functions you have implemented\n",
    "    X_train_std, X_train_mean, X_train_std_div = standardize_data(X_train)\n",
    "    X_test_std = (X_test-X_train_mean)/X_train_std_div\n",
    "    \n",
    "    params = least_squares_compute_parameters(X_train_std, y_train)\n",
    "    \n",
    "    mse_train = test_predictor(expand_with_ones(X_train_std), y_train, lambda x : linear_model_predictor(x, params))\n",
    "    mse_test = test_predictor(expand_with_ones(X_test_std), y_test, lambda x : linear_model_predictor(x, params))\n",
    "\n",
    "    return mse_train, mse_test\n",
    "    ###################################################\n",
    "    ##### YOUR CODE ENDS HERE #########################\n",
    "    ###################################################\n",
    "\n",
    "mse_train, mse_test = train_and_test(X_train, y_train, X_test, y_test)\n",
    "print('Linear Model')\n",
    "print('-----------------------\\n')\n",
    "print('MSE (Training) = %.4f' % mse_train)\n",
    "print('MSE (Testing)  = %.4f' % mse_test)\n"
   ]
  },
  {
   "cell_type": "markdown",
   "metadata": {
    "cell_id": "00029-9896d5d0-a94a-496f-ab1d-82dd458bc7da",
    "deepnote_cell_type": "markdown",
    "id": "NTJw_BrzhRwi"
   },
   "source": [
    "We are now ready to report the learning curves.\n",
    "The task is to train the linear model on the increasingly more data ([20, 40, ..., 600] data records)\n",
    "and store the MSE of the trained model on the training data and the test data in the lists `mse_train_v` and `mse_test`, respectively. \n",
    "We have provided the code for generating the learning curves from `mse_train_v` and `mse_test`."
   ]
  },
  {
   "cell_type": "code",
   "execution_count": 13,
   "metadata": {
    "cell_id": "00030-2e551ae7-799e-4b47-a3f6-e6d6bcbf5dc4",
    "colab": {
     "base_uri": "https://localhost:8080/",
     "height": 279
    },
    "deepnote_cell_type": "code",
    "deepnote_to_be_reexecuted": false,
    "executionInfo": {
     "elapsed": 1747,
     "status": "ok",
     "timestamp": 1596436129644,
     "user": {
      "displayName": "Haozhe Zhang",
      "photoUrl": "https://lh3.googleusercontent.com/a-/AOh14GhewCb1FImnjURCLugyfalL8wVXJomnuoEHUckN=s64",
      "userId": "15943369882491692800"
     },
     "user_tz": -480
    },
    "execution_millis": 1391,
    "execution_start": 1636110872238,
    "id": "jDsdh4T3hcIU",
    "outputId": "621c4890-1c55-4e9b-f28f-33d60907d8b9",
    "source_hash": "6d665325"
   },
   "outputs": [
    {
     "data": {
      "image/png": "[encoded data removed]",
      "text/plain": [
       "<Figure size 432x288 with 1 Axes>"
      ]
     },
     "metadata": {
      "needs_background": "light"
     },
     "output_type": "display_data"
    }
   ],
   "source": [
    "mse_train_v = []\n",
    "mse_test_v = []\n",
    "\n",
    "TRAINING_SIZE_MAX = 601\n",
    "TRAINING_SIZE_MIN = 20\n",
    "\n",
    "# compute the MSE over data with sizes from TRAINING_SIZE_MIN to TRAINING_SIZE_MAX with increasing step 20\n",
    "for train_size in range(TRAINING_SIZE_MIN, TRAINING_SIZE_MAX, 20):\n",
    "    # TODO: \n",
    "    #   1. use the first train_size data records from the X_train and y_train as the training data\n",
    "    #   2. train and compute the MSE on both training and test data using the train_and_test function\n",
    "    #   3. add the computed MSE to the lists mse_train_v and mse_test_v\n",
    "    # The code below is just for compilation. \n",
    "    # You need to replace it by your own code.\n",
    "    ###################################################\n",
    "    ##### YOUR CODE STARTS HERE #######################\n",
    "    ###################################################\n",
    "    mse_train, mse_test = train_and_test(X_train[:train_size], y_train[:train_size], X_test, y_test)\n",
    "    \n",
    "    mse_train_v.append(mse_train)\n",
    "    mse_test_v.append(mse_test)\n",
    "    ###################################################\n",
    "    ##### YOUR CODE ENDS HERE #########################\n",
    "    ###################################################\n",
    "\n",
    "# The below code generates the learning curves plot\n",
    "plt.figure(2)\n",
    "plt.plot(np.arange(TRAINING_SIZE_MIN, TRAINING_SIZE_MAX, 20), mse_train_v, 'r--', label=\"Training Error\")\n",
    "plt.plot(np.arange(TRAINING_SIZE_MIN, TRAINING_SIZE_MAX, 20), mse_test_v, 'b-', label=\"Test Error\")\n",
    "plt.xlabel('Dataset Size')\n",
    "plt.ylabel('Mean Squared Error')\n",
    "plt.show()"
   ]
  },
  {
   "cell_type": "markdown",
   "metadata": {
    "cell_id": "00031-529db111-451b-42f6-b261-b6f4910fd5c1",
    "deepnote_cell_type": "markdown",
    "id": "UfjNskvf4MUM"
   },
   "source": [
    "### **Task 8**\n",
    "Explain whether you think the model is underfitting or not and how much data you need before getting the optimal test error."
   ]
  },
  {
   "cell_type": "markdown",
   "metadata": {
    "cell_id": "00032-3a8623fb-6a36-4641-92bd-1d61715e068c",
    "deepnote_cell_type": "markdown",
    "id": "9A9VqDTzOdfd"
   },
   "source": [
    "The model is underfitting not because training MSE and test MSE don't converge to the same value (they do, around 0.55) but because the predictions do not get better with more data, starting from a sample size of around 200. Basis expansion could help."
   ]
  },
  {
   "cell_type": "markdown",
   "metadata": {
    "cell_id": "00033-4458b281-3e92-4685-a0d8-a77837dd637b",
    "deepnote_cell_type": "markdown",
    "id": "djpsaTu_kK3T"
   },
   "source": [
    "## Polynomial Basis Expansion and Regularisation\n",
    "\n",
    "In this part, we will try to improve the linear model by basis expansion and regularisation. \n",
    "\n",
    "The task is to \n",
    "1. apply the degree 2 basis expansion to the data, \n",
    "2. build the Ridge and Lasso models using scikit-learn, and\n",
    "3. perform hyperparameter optimization to find the optimal hyperparameter lambda. \n",
    "\n",
    "For the hyperparameter optimization, you should set the last 20% of the training data for the purpose of validation and \n",
    "try lambda values [10^-4, 10^-3, 10^-2, 10^-1, 1, 10, 100]. \n",
    "\n",
    "\n",
    "We will use the scikit-learn package. You can import other scikit-learn packages if you think they are useful. Read the documentation available here: http://scikit-learn.org/stable/modules/classes.html"
   ]
  },
  {
   "cell_type": "code",
   "execution_count": 14,
   "metadata": {
    "cell_id": "00034-44a63382-7c6c-467b-9c22-7baed8a7164b",
    "deepnote_cell_type": "code",
    "deepnote_to_be_reexecuted": false,
    "execution_millis": 1281,
    "execution_start": 1636110873679,
    "id": "9TM0nkNbkhfM",
    "source_hash": "726dd4e7"
   },
   "outputs": [],
   "source": [
    "# import the preprocessing libs for standarization and basis expansion\n",
    "from sklearn.preprocessing import StandardScaler, PolynomialFeatures \n",
    "\n",
    "# Ridge and Lasso linear model\n",
    "from sklearn.linear_model import Ridge, Lasso \n"
   ]
  },
  {
   "cell_type": "markdown",
   "metadata": {
    "cell_id": "00035-166e695e-d0bf-4a23-81e0-e3396c19d7de",
    "deepnote_cell_type": "markdown",
    "id": "pCwBPuOXlRF7"
   },
   "source": [
    "### **Task 9**\n",
    "Let's implement the function for expanding the basis of the dataset. \n",
    "\n",
    "Hints: use `PolynomialFeatures`"
   ]
  },
  {
   "cell_type": "code",
   "execution_count": 15,
   "metadata": {
    "cell_id": "00036-886202d7-6fc5-4488-a257-2f87783a824e",
    "deepnote_cell_type": "code",
    "deepnote_to_be_reexecuted": false,
    "execution_millis": 3,
    "execution_start": 1636110874969,
    "id": "50azFolql1qA",
    "source_hash": "2dd7bec7"
   },
   "outputs": [],
   "source": [
    "def expand_basis(X, degree):\n",
    "    # TODO: expand the basis of X for the input degree\n",
    "    # The code below is just for compilation. \n",
    "    # You need to replace it by your own code.\n",
    "    ###################################################\n",
    "    ##### YOUR CODE STARTS HERE #######################\n",
    "    ###################################################\n",
    "    # Hints: use the function PolynomialFeatures\n",
    "    poly = PolynomialFeatures(degree)\n",
    "    return poly.fit_transform(X)\n",
    "    ###################################################\n",
    "    ##### YOUR CODE ENDS HERE #########################\n",
    "    ###################################################"
   ]
  },
  {
   "cell_type": "markdown",
   "metadata": {
    "cell_id": "00037-8f2077f9-810c-4870-a343-0d5c06143715",
    "deepnote_cell_type": "markdown",
    "id": "6jwkPevimQri"
   },
   "source": [
    "### **Task 10**\n",
    "We need to expand and standardize the the data,\n",
    "and prepare the training, test and validation data on the expanded data. \n",
    "You should set the last 20% of the training data as the validation data.\n",
    "\n",
    "Hints: use `StandardScaler` and `std_scaler` to standardize the data"
   ]
  },
  {
   "cell_type": "code",
   "execution_count": 16,
   "metadata": {
    "cell_id": "00038-739765ef-f8d7-456e-b6bd-1cc6bf61eff9",
    "deepnote_cell_type": "code",
    "deepnote_to_be_reexecuted": false,
    "execution_millis": 54,
    "execution_start": 1636110874997,
    "id": "dQCq4G9YmW7w",
    "source_hash": "b957a47"
   },
   "outputs": [],
   "source": [
    "def prepare_data(X, y, degree):\n",
    "    # TODO: the training, test and validation data using the expanded dataset.\n",
    "    # The code below is just for compilation. \n",
    "    # You need to replace it by your own code.\n",
    "    ###################################################\n",
    "    ##### YOUR CODE STARTS HERE #######################\n",
    "    ###################################################\n",
    "    # Hints: follow the steps     \n",
    "    # 1. split the data (X, y) into training data (X_train, y_train) and test data (X_test, y_test)\n",
    "    # 2. standardize the training data and do the same transformation to the test data\n",
    "    # 3. expand the basis of the training data and test data\n",
    "    # 3b. standardize the expanded data\n",
    "    # 4. split the expanded training data into training data (X_train_n, y_train_n) and validation data (X_train_v, y_train_v)\n",
    "    # 5. standardize the training data and do the same transformation to the validation data\n",
    "    \n",
    "    X_train, y_train, X_test, y_test = split_data(X, y, 0.8)\n",
    "\n",
    "    std_scaler = StandardScaler()\n",
    "\n",
    "    #standardize\n",
    "    std_scaler.fit(X_train)\n",
    "    X_train_std=std_scaler.transform(X_train)\n",
    "    X_test_std=std_scaler.transform(X_test)\n",
    "\n",
    "    #expand\n",
    "    X_train_exp = expand_basis(X_train_std, degree)\n",
    "    X_test_exp = expand_basis(X_test_std, degree)\n",
    "    \n",
    "    #standardize\n",
    "    std_scaler.fit(X_train_exp)\n",
    "    X_train_exp=std_scaler.transform(X_train_exp)\n",
    "    X_test_exp=std_scaler.transform(X_test_exp)\n",
    "\n",
    "    # further split the (expanded) training data to training and validation data\n",
    "    X_train_n, y_train_n, X_train_v, y_train_v = split_data(X_train_exp, y_train, 0.8)\n",
    "  \n",
    "\n",
    "    #standardize\n",
    "    std_scaler.fit(X_train_n)\n",
    "    X_train_n=std_scaler.transform(X_train_n)\n",
    "    X_train_v=std_scaler.transform(X_train_v)\n",
    "\n",
    "    \n",
    "    return X_train_exp, y_train, X_train_n, y_train_n, X_train_v, y_train_v, X_test_exp, y_test\n",
    "    ###################################################\n",
    "    ##### YOUR CODE ENDS HERE #########################\n",
    "    ###################################################\n",
    "\n",
    "X_train, y_train, X_train_n, y_train_n, X_train_v, y_train_v, X_test, y_test = prepare_data(X, y, 2) # here we expand the dataset with degree 2\n"
   ]
  },
  {
   "cell_type": "markdown",
   "metadata": {
    "cell_id": "00039-82f2e332-0696-44c3-84c5-05539b332dba",
    "deepnote_cell_type": "markdown",
    "id": "cdxarMa-4MUN"
   },
   "source": [
    "**Why standardisation is required before basis expansion?**\n",
    "\n",
    "Assume we have a dataset with two features x1 and x2, where x1 has a small scale while x2 has a large scale. When we perform basis expansion, we  get a new feature x1x2. Since x2 has a larger scale than x1, it is likely x2 will contribute more to the value of the new feature x1x2, which means a bias is introduce here. \n",
    "The correct way is to standardise the features before the basis expansion. In this case x1 and x2 have the same scale, so they contribute same to the new feature x1x2, i.e. no bias is introduced. \n",
    "\n",
    "\n",
    "**Why standardise the training data in step 5?**\n",
    "\n",
    "Ridge and Lasso regularisation require the data to have mean of 0 and standard deviation of 1. However, after the basis expansion and splitting in step 4, the training data might not have the desired distribution, so we need to perform the standardisation on the training data. \n",
    "\n",
    " \n",
    "**Why not standardise both training and validation data together?**\n",
    "\n",
    "When we use validation data to chose the hyperparameters, we treat the validation data like the test data -- we should not assume we can access these data. So we should standardise the training data and perform the same operation to the validation data. "
   ]
  },
  {
   "cell_type": "markdown",
   "metadata": {
    "cell_id": "00040-8661635e-b15b-47b6-9508-c660888464f8",
    "deepnote_cell_type": "markdown",
    "id": "i3BxxtM3nghU"
   },
   "source": [
    "### **Task 11**\n",
    "We have prepared the training data and the validation data. We can now choose the hyperparameter lambda for Ridge and Lasso using the validation data. \n",
    "We use the Ridge and Lasso models from scikit-learn: https://scikit-learn.org/stable/modules/generated/sklearn.linear_model.Ridge.html\n",
    "\n",
    "We train Ridge or Lasso models with different lambda values and check their performance on the validation data.\n",
    "The lambda value that results the best performance is then the optimal lambda. "
   ]
  },
  {
   "cell_type": "code",
   "execution_count": 17,
   "metadata": {
    "cell_id": "00041-4aa77c94-ae4a-4b50-bf37-d86801773b6d",
    "colab": {
     "base_uri": "https://localhost:8080/",
     "height": 555
    },
    "deepnote_cell_type": "code",
    "deepnote_to_be_reexecuted": false,
    "executionInfo": {
     "elapsed": 3266,
     "status": "ok",
     "timestamp": 1596436131187,
     "user": {
      "displayName": "Haozhe Zhang",
      "photoUrl": "https://lh3.googleusercontent.com/a-/AOh14GhewCb1FImnjURCLugyfalL8wVXJomnuoEHUckN=s64",
      "userId": "15943369882491692800"
     },
     "user_tz": -480
    },
    "execution_millis": 4335,
    "execution_start": 1636110875063,
    "id": "SvXcAGW1oHq1",
    "outputId": "25a38d1f-013f-4b0a-9cbb-3f08b68c0371",
    "source_hash": "f8b04f54"
   },
   "outputs": [
    {
     "name": "stderr",
     "output_type": "stream",
     "text": [
      "C:\\Python39\\lib\\site-packages\\sklearn\\linear_model\\_coordinate_descent.py:647: ConvergenceWarning: Objective did not converge. You might want to increase the number of iterations, check the scale of the features or consider increasing regularisation. Duality gap: 2.680e+02, tolerance: 2.424e-01\n",
      "  model = cd_fast.enet_coordinate_descent(\n",
      "C:\\Python39\\lib\\site-packages\\sklearn\\linear_model\\_coordinate_descent.py:647: ConvergenceWarning: Objective did not converge. You might want to increase the number of iterations, check the scale of the features or consider increasing regularisation. Duality gap: 9.041e-01, tolerance: 2.424e-01\n",
      "  model = cd_fast.enet_coordinate_descent(\n"
     ]
    },
    {
     "name": "stdout",
     "output_type": "stream",
     "text": [
      "Ridge lambda: 1\n",
      "Lasso lambda: 0.001\n"
     ]
    },
    {
     "data": {
      "image/png": "[encoded data removed]",
      "text/plain": [
       "<Figure size 432x288 with 1 Axes>"
      ]
     },
     "metadata": {
      "needs_background": "light"
     },
     "output_type": "display_data"
    },
    {
     "data": {
      "image/png": "[encoded data removed]",
      "text/plain": [
       "<Figure size 432x288 with 1 Axes>"
      ]
     },
     "metadata": {
      "needs_background": "light"
     },
     "output_type": "display_data"
    }
   ],
   "source": [
    "# The function takes the training and validation data as inputs, and \n",
    "# returns the lambda value that results the minimal mse\n",
    "# We use is_ridge to indicate which the model is considered.\n",
    "# is_ridge = True indicates Ridge while is_ridge = False indicates Lasso\n",
    "def choose_hyper_param(X_train_n, y_train_n, X_train_v, y_train_v, is_ridge: bool):\n",
    "    from sklearn.metrics import mean_squared_error\n",
    "    mse_arr = []\n",
    "    lam_arr = []\n",
    "\n",
    "    # Try lambda values from 10^-4 to 10^2. \n",
    "    # Record the mse and the lambda values in mse_arr and lam_arr\n",
    "    # The code below is just for compilation. \n",
    "    # You need to replace it by your own code.\n",
    "    ###################################################\n",
    "    ##### YOUR CODE STARTS HERE #######################\n",
    "    ###################################################\n",
    "    for pow_lam in range(-4, 3):\n",
    "        lam = 10 ** pow_lam\n",
    "        mse = 0\n",
    "        if is_ridge:\n",
    "            ridge = Ridge(alpha = lam)\n",
    "            ridge.fit(X_train_n, y_train_n)\n",
    "            y_predicted = ridge.predict(X_train_v)\n",
    "            mse = mean_squared_error(y_train_v, y_predicted)\n",
    "        else:\n",
    "            lasso = Lasso(alpha = lam)\n",
    "            lasso.fit(X_train_n, y_train_n)\n",
    "            y_predicted = lasso.predict(X_train_v)\n",
    "            mse = mean_squared_error(y_train_v, y_predicted)\n",
    "            \n",
    "        mse_arr.append(mse) \n",
    "        lam_arr.append(lam)\n",
    "    ###################################################\n",
    "    ##### YOUR CODE ENDS HERE #########################\n",
    "    ###################################################\n",
    "\n",
    "\n",
    "    # get the index of the lambda value that has the minimal use\n",
    "    lambda_idx_min = np.argmin(np.array(mse_arr))\n",
    "\n",
    "    # plot of the lambda values and their mse\n",
    "    plt.figure()\n",
    "    plt.semilogx(lam_arr, mse_arr)\n",
    "\n",
    "    # return the optimal lambda value\n",
    "    return lam_arr[lambda_idx_min]\n",
    "\n",
    "#import warnings\n",
    "#warnings.filterwarnings('ignore')\n",
    "\n",
    "\n",
    "# call the function to choose the lambda for Ridge and Lasso\n",
    "lam_ridge = choose_hyper_param(X_train_n, y_train_n, X_train_v, y_train_v, True)\n",
    "lam_lasso = choose_hyper_param(X_train_n, y_train_n, X_train_v, y_train_v, False)\n",
    "\n",
    "print(\"Ridge lambda:\", lam_ridge)\n",
    "print(\"Lasso lambda:\", lam_lasso)"
   ]
  },
  {
   "cell_type": "markdown",
   "metadata": {
    "cell_id": "00042-76f13b97-89e2-4a3d-b9d7-38cae8849270",
    "deepnote_cell_type": "markdown",
    "id": "FAuX0uU5k9qD"
   },
   "source": [
    "### **Task 12**:\n",
    "Once you’ve obtained the optimal lambdas for Ridge and Lasso, train these models using these lambdas on the full training data. Then report\n",
    "the training and test error."
   ]
  },
  {
   "cell_type": "code",
   "execution_count": 18,
   "metadata": {
    "cell_id": "00043-4cb3cff7-6181-4237-9471-1919e9c5bba0",
    "deepnote_cell_type": "code",
    "deepnote_to_be_reexecuted": false,
    "execution_millis": 576,
    "execution_start": 1636110879368,
    "id": "VmwHESkg77zK",
    "source_hash": "6dd3f1b3"
   },
   "outputs": [
    {
     "name": "stdout",
     "output_type": "stream",
     "text": [
      "For Ridge Regression with using degree 2 polynomial expansion and lambda = 1.0000\n",
      "--------------------------------------------------------------------------------\n",
      "\n",
      "MSE (Training) = 0.4952\n",
      "MSE (Testing)  = 0.5126\n",
      "\n",
      "\n",
      "For Lasso with using degree 2 polynomial expansion and lambda = 0.0010\n",
      "---------------------------------------------------------------------\n",
      "\n",
      "MSE (Training) = 0.4966\n",
      "MSE (Testing)  = 0.5101\n"
     ]
    }
   ],
   "source": [
    "# TODO: train the Ridge and Lasso models using the optimal parameters, and\n",
    "#       report their MSE\n",
    "###################################################\n",
    "##### YOUR CODE STARTS HERE #######################\n",
    "###################################################\n",
    "# Hints: train these models on the full training data\n",
    "from sklearn.metrics import mean_squared_error\n",
    "\n",
    "ridge = Ridge(alpha = lam_ridge)\n",
    "ridge.fit(X_train, y_train)\n",
    "y_predicted_train_ridge = ridge.predict(X_train)\n",
    "mse_ridge_train = mean_squared_error(y_train, y_predicted_train_ridge)\n",
    "y_predicted_test_ridge = ridge.predict(X_test)\n",
    "mse_ridge_test = mean_squared_error(y_test, y_predicted_test_ridge)\n",
    "\n",
    "\n",
    "lasso = Lasso(alpha = lam_lasso)\n",
    "lasso.fit(X_train, y_train)\n",
    "y_predicted_train_lasso = lasso.predict(X_train)\n",
    "mse_lasso_train = mean_squared_error(y_train, y_predicted_train_lasso)\n",
    "y_predicted_test_lasso = lasso.predict(X_test)\n",
    "mse_lasso_test = mean_squared_error(y_test, y_predicted_test_lasso)\n",
    "###################################################\n",
    "##### YOUR CODE ENDS HERE #########################\n",
    "###################################################\n",
    "\n",
    "# Report the result\n",
    "print('For Ridge Regression with using degree %d polynomial expansion and lambda = %.4f' % (2, lam_ridge))\n",
    "print('--------------------------------------------------------------------------------\\n')\n",
    "print('MSE (Training) = %.4f' % mse_ridge_train)\n",
    "print('MSE (Testing)  = %.4f' % mse_ridge_test)\n",
    "\n",
    "print('\\n\\nFor Lasso with using degree %d polynomial expansion and lambda = %.4f' % (2, lam_lasso))\n",
    "print('---------------------------------------------------------------------\\n')\n",
    "print('MSE (Training) = %.4f' % mse_lasso_train)\n",
    "print('MSE (Testing)  = %.4f' % mse_lasso_test)"
   ]
  },
  {
   "cell_type": "markdown",
   "metadata": {
    "cell_id": "00044-72a46c2a-5c8f-42e8-b0c8-31150542e5d8",
    "deepnote_cell_type": "markdown",
    "id": "Os9tKKLd8gMU"
   },
   "source": [
    "## Optional: Try Larger Degrees using K-fold Cross Validation\n",
    "\n"
   ]
  },
  {
   "cell_type": "markdown",
   "metadata": {
    "cell_id": "00045-1a614a0c-1ee5-47eb-b29b-16a53bfbaec4",
    "deepnote_cell_type": "markdown",
    "id": "sfqRAlv1PBXi"
   },
   "source": [
    "### **Task 13**\n",
    "This is an optional task, which worths 5 bonus poitns.\n",
    "\n",
    "The task is to try basis expansions with higher degrees (up to degree 4) and find the degree that results the best performance. \n",
    "Instead of always using the same validation set, you should use k-fold cross validation to find the optimal hyperparameters. \n",
    "You should report the optimal hyperparameters (the basis expansion degree and the lambdas) and the MSE of the Ridge and Lasso when you apply the optimal hyperparameters. \n",
    "\n",
    "Hints: Use `KFold` to do this automatically. "
   ]
  },
  {
   "cell_type": "code",
   "execution_count": 19,
   "metadata": {
    "cell_id": "00046-17fa6f2e-5c5a-4b3e-ba4e-7a0950e6bbf7",
    "deepnote_cell_type": "code",
    "deepnote_to_be_reexecuted": false,
    "execution_millis": 92667,
    "execution_start": 1636110879952,
    "id": "kpwY7UtQ8l-0",
    "source_hash": "aeb9a57a"
   },
   "outputs": [
    {
     "name": "stderr",
     "output_type": "stream",
     "text": [
      "C:\\Python39\\lib\\site-packages\\sklearn\\linear_model\\_coordinate_descent.py:647: ConvergenceWarning: Objective did not converge. You might want to increase the number of iterations, check the scale of the features or consider increasing regularisation. Duality gap: 6.576e+01, tolerance: 2.429e-01\n",
      "  model = cd_fast.enet_coordinate_descent(\n",
      "C:\\Python39\\lib\\site-packages\\sklearn\\linear_model\\_coordinate_descent.py:647: ConvergenceWarning: Objective did not converge. You might want to increase the number of iterations, check the scale of the features or consider increasing regularisation. Duality gap: 4.503e+00, tolerance: 2.481e-01\n",
      "  model = cd_fast.enet_coordinate_descent(\n",
      "C:\\Python39\\lib\\site-packages\\sklearn\\linear_model\\_coordinate_descent.py:647: ConvergenceWarning: Objective did not converge. You might want to increase the number of iterations, check the scale of the features or consider increasing regularisation. Duality gap: 4.503e+01, tolerance: 2.422e-01\n",
      "  model = cd_fast.enet_coordinate_descent(\n",
      "C:\\Python39\\lib\\site-packages\\sklearn\\linear_model\\_coordinate_descent.py:647: ConvergenceWarning: Objective did not converge. You might want to increase the number of iterations, check the scale of the features or consider increasing regularisation. Duality gap: 1.061e+02, tolerance: 2.415e-01\n",
      "  model = cd_fast.enet_coordinate_descent(\n",
      "C:\\Python39\\lib\\site-packages\\sklearn\\linear_model\\_coordinate_descent.py:647: ConvergenceWarning: Objective did not converge. You might want to increase the number of iterations, check the scale of the features or consider increasing regularisation. Duality gap: 2.625e+02, tolerance: 2.425e-01\n",
      "  model = cd_fast.enet_coordinate_descent(\n",
      "C:\\Python39\\lib\\site-packages\\sklearn\\linear_model\\_coordinate_descent.py:647: ConvergenceWarning: Objective did not converge. You might want to increase the number of iterations, check the scale of the features or consider increasing regularisation. Duality gap: 3.658e+00, tolerance: 2.422e-01\n",
      "  model = cd_fast.enet_coordinate_descent(\n",
      "C:\\Python39\\lib\\site-packages\\sklearn\\linear_model\\_coordinate_descent.py:647: ConvergenceWarning: Objective did not converge. You might want to increase the number of iterations, check the scale of the features or consider increasing regularisation. Duality gap: 8.636e-01, tolerance: 2.425e-01\n",
      "  model = cd_fast.enet_coordinate_descent(\n",
      "C:\\Python39\\lib\\site-packages\\sklearn\\linear_model\\_coordinate_descent.py:647: ConvergenceWarning: Objective did not converge. You might want to increase the number of iterations, check the scale of the features or consider increasing regularisation. Duality gap: 3.462e+02, tolerance: 2.429e-01\n",
      "  model = cd_fast.enet_coordinate_descent(\n",
      "C:\\Python39\\lib\\site-packages\\sklearn\\linear_model\\_coordinate_descent.py:647: ConvergenceWarning: Objective did not converge. You might want to increase the number of iterations, check the scale of the features or consider increasing regularisation. Duality gap: 3.012e+02, tolerance: 2.481e-01\n",
      "  model = cd_fast.enet_coordinate_descent(\n",
      "C:\\Python39\\lib\\site-packages\\sklearn\\linear_model\\_coordinate_descent.py:647: ConvergenceWarning: Objective did not converge. You might want to increase the number of iterations, check the scale of the features or consider increasing regularisation. Duality gap: 4.357e+02, tolerance: 2.422e-01\n",
      "  model = cd_fast.enet_coordinate_descent(\n",
      "C:\\Python39\\lib\\site-packages\\sklearn\\linear_model\\_coordinate_descent.py:647: ConvergenceWarning: Objective did not converge. You might want to increase the number of iterations, check the scale of the features or consider increasing regularisation. Duality gap: 4.479e+02, tolerance: 2.415e-01\n",
      "  model = cd_fast.enet_coordinate_descent(\n",
      "C:\\Python39\\lib\\site-packages\\sklearn\\linear_model\\_coordinate_descent.py:647: ConvergenceWarning: Objective did not converge. You might want to increase the number of iterations, check the scale of the features or consider increasing regularisation. Duality gap: 4.405e+02, tolerance: 2.425e-01\n",
      "  model = cd_fast.enet_coordinate_descent(\n",
      "C:\\Python39\\lib\\site-packages\\sklearn\\linear_model\\_coordinate_descent.py:647: ConvergenceWarning: Objective did not converge. You might want to increase the number of iterations, check the scale of the features or consider increasing regularisation. Duality gap: 1.423e+01, tolerance: 2.429e-01\n",
      "  model = cd_fast.enet_coordinate_descent(\n",
      "C:\\Python39\\lib\\site-packages\\sklearn\\linear_model\\_coordinate_descent.py:647: ConvergenceWarning: Objective did not converge. You might want to increase the number of iterations, check the scale of the features or consider increasing regularisation. Duality gap: 3.774e-01, tolerance: 2.481e-01\n",
      "  model = cd_fast.enet_coordinate_descent(\n",
      "C:\\Python39\\lib\\site-packages\\sklearn\\linear_model\\_coordinate_descent.py:647: ConvergenceWarning: Objective did not converge. You might want to increase the number of iterations, check the scale of the features or consider increasing regularisation. Duality gap: 1.507e+01, tolerance: 2.422e-01\n",
      "  model = cd_fast.enet_coordinate_descent(\n",
      "C:\\Python39\\lib\\site-packages\\sklearn\\linear_model\\_coordinate_descent.py:647: ConvergenceWarning: Objective did not converge. You might want to increase the number of iterations, check the scale of the features or consider increasing regularisation. Duality gap: 1.891e+01, tolerance: 2.415e-01\n",
      "  model = cd_fast.enet_coordinate_descent(\n",
      "C:\\Python39\\lib\\site-packages\\sklearn\\linear_model\\_coordinate_descent.py:647: ConvergenceWarning: Objective did not converge. You might want to increase the number of iterations, check the scale of the features or consider increasing regularisation. Duality gap: 2.260e+01, tolerance: 2.425e-01\n",
      "  model = cd_fast.enet_coordinate_descent(\n",
      "C:\\Python39\\lib\\site-packages\\sklearn\\linear_model\\_coordinate_descent.py:647: ConvergenceWarning: Objective did not converge. You might want to increase the number of iterations, check the scale of the features or consider increasing regularisation. Duality gap: 3.271e+02, tolerance: 2.429e-01\n",
      "  model = cd_fast.enet_coordinate_descent(\n",
      "C:\\Python39\\lib\\site-packages\\sklearn\\linear_model\\_coordinate_descent.py:647: ConvergenceWarning: Objective did not converge. You might want to increase the number of iterations, check the scale of the features or consider increasing regularisation. Duality gap: 3.408e+02, tolerance: 2.481e-01\n",
      "  model = cd_fast.enet_coordinate_descent(\n",
      "C:\\Python39\\lib\\site-packages\\sklearn\\linear_model\\_coordinate_descent.py:647: ConvergenceWarning: Objective did not converge. You might want to increase the number of iterations, check the scale of the features or consider increasing regularisation. Duality gap: 3.231e+02, tolerance: 2.422e-01\n",
      "  model = cd_fast.enet_coordinate_descent(\n",
      "C:\\Python39\\lib\\site-packages\\sklearn\\linear_model\\_coordinate_descent.py:647: ConvergenceWarning: Objective did not converge. You might want to increase the number of iterations, check the scale of the features or consider increasing regularisation. Duality gap: 2.557e+02, tolerance: 2.415e-01\n",
      "  model = cd_fast.enet_coordinate_descent(\n",
      "C:\\Python39\\lib\\site-packages\\sklearn\\linear_model\\_coordinate_descent.py:647: ConvergenceWarning: Objective did not converge. You might want to increase the number of iterations, check the scale of the features or consider increasing regularisation. Duality gap: 3.401e+02, tolerance: 2.425e-01\n",
      "  model = cd_fast.enet_coordinate_descent(\n",
      "C:\\Python39\\lib\\site-packages\\sklearn\\linear_model\\_coordinate_descent.py:647: ConvergenceWarning: Objective did not converge. You might want to increase the number of iterations, check the scale of the features or consider increasing regularisation. Duality gap: 8.404e+01, tolerance: 2.429e-01\n",
      "  model = cd_fast.enet_coordinate_descent(\n",
      "C:\\Python39\\lib\\site-packages\\sklearn\\linear_model\\_coordinate_descent.py:647: ConvergenceWarning: Objective did not converge. You might want to increase the number of iterations, check the scale of the features or consider increasing regularisation. Duality gap: 2.738e+01, tolerance: 2.481e-01\n",
      "  model = cd_fast.enet_coordinate_descent(\n",
      "C:\\Python39\\lib\\site-packages\\sklearn\\linear_model\\_coordinate_descent.py:647: ConvergenceWarning: Objective did not converge. You might want to increase the number of iterations, check the scale of the features or consider increasing regularisation. Duality gap: 1.084e+02, tolerance: 2.422e-01\n",
      "  model = cd_fast.enet_coordinate_descent(\n",
      "C:\\Python39\\lib\\site-packages\\sklearn\\linear_model\\_coordinate_descent.py:647: ConvergenceWarning: Objective did not converge. You might want to increase the number of iterations, check the scale of the features or consider increasing regularisation. Duality gap: 5.409e+01, tolerance: 2.415e-01\n",
      "  model = cd_fast.enet_coordinate_descent(\n",
      "C:\\Python39\\lib\\site-packages\\sklearn\\linear_model\\_coordinate_descent.py:647: ConvergenceWarning: Objective did not converge. You might want to increase the number of iterations, check the scale of the features or consider increasing regularisation. Duality gap: 1.137e+02, tolerance: 2.425e-01\n",
      "  model = cd_fast.enet_coordinate_descent(\n"
     ]
    },
    {
     "name": "stdout",
     "output_type": "stream",
     "text": [
      "Min ridge average MSE for k-cross validation : 0.5389\n",
      "Optimal degree ridge : 2.0000\n",
      "Optimal lambda ridge : 10.0000\n",
      "MSE ridge on test set : 0.5122\n",
      "----------------------------------\n",
      "Min lasso average MSE for k-cross validation : 0.5378\n",
      "Optimal degree lasso : 2.0000\n",
      "Optimal lambda lasso : 0.0010\n",
      "MSE lasso on test set: 0.5101\n"
     ]
    }
   ],
   "source": [
    "# KFold\n",
    "from sklearn.model_selection import KFold\n",
    "# TODO: Try using higher degree basis expansion. Find the degree that gives the minimal mse. \n",
    "###################################################\n",
    "##### YOUR CODE STARTS HERE #######################\n",
    "###################################################\n",
    "from sklearn.model_selection import train_test_split\n",
    "from sklearn.preprocessing import StandardScaler\n",
    "\n",
    "\n",
    "X_train, X_test, y_train, y_test = train_test_split(X, y, test_size=0.2, shuffle = False)\n",
    "\n",
    "std_scaler = StandardScaler()\n",
    "\n",
    "#standardize\n",
    "std_scaler.fit(X_train)\n",
    "X_train_std=std_scaler.transform(X_train)\n",
    "X_test_std=std_scaler.transform(X_test)\n",
    "   \n",
    "kf = KFold()\n",
    "\n",
    "#results = []\n",
    "#lam_arr = []\n",
    "min_mse_ridge = 100\n",
    "min_mse_lasso = 100\n",
    "best_degree_ridge = 0\n",
    "best_degree_lasso = 0\n",
    "best_lam_ridge = 0\n",
    "best_lam_lasso = 0\n",
    "\n",
    "\n",
    "for expand_degree in range(1,5):\n",
    "    #expand\n",
    "    X_train_exp = expand_basis(X_train_std, expand_degree)\n",
    "    X_test_exp = expand_basis(X_test_std, expand_degree)\n",
    "\n",
    "    #standardize\n",
    "    std_scaler.fit(X_train_exp)\n",
    "    X_train_exp=std_scaler.transform(X_train_exp)\n",
    "    X_test_exp=std_scaler.transform(X_test_exp)\n",
    "    \n",
    "    for pow_lam in range(-4, 3):\n",
    "        lam = 10 ** pow_lam\n",
    "        ridge = Ridge(alpha = lam)\n",
    "        lasso = Lasso(alpha = lam)\n",
    "        mse_ridge_arr = []\n",
    "        mse_lasso_arr = []\n",
    "        \n",
    "        for train_index, validation_index in kf.split(X_train_exp):\n",
    "            X_train_n, X_train_v = X_train_exp[train_index], X_train_exp[validation_index]\n",
    "            y_train_n, y_train_v = y_train[train_index], y_train[validation_index]\n",
    "\n",
    "            #standardize\n",
    "            std_scaler.fit(X_train_n)\n",
    "            X_train_n_std=std_scaler.transform(X_train_n)\n",
    "            X_train_v_std=std_scaler.transform(X_train_v)\n",
    "            \n",
    "            #ridge\n",
    "            ridge.fit(X_train_n_std, y_train_n)\n",
    "            y_predicted_ridge = ridge.predict(X_train_v_std)\n",
    "            mse_ridge_arr.append(mean_squared_error(y_train_v, y_predicted_ridge))\n",
    "            \n",
    "            #lasso\n",
    "            lasso.fit(X_train_n_std, y_train_n)\n",
    "            y_predicted_lasso = lasso.predict(X_train_v_std)\n",
    "            mse_lasso_arr.append(mean_squared_error(y_train_v, y_predicted_lasso))\n",
    "            \n",
    "        avg_mse_ridge = np.mean(mse_ridge_arr)\n",
    "        if avg_mse_ridge < min_mse_ridge:\n",
    "            min_mse_ridge = avg_mse_ridge\n",
    "            best_degree_ridge = expand_degree\n",
    "            best_lam_ridge = lam\n",
    "        avg_mse_lasso = np.mean(mse_lasso_arr)\n",
    "        if avg_mse_lasso < min_mse_lasso:\n",
    "            min_mse_lasso = avg_mse_lasso\n",
    "            best_degree_lasso = expand_degree\n",
    "            best_lam_lasso = lam\n",
    "\n",
    "\n",
    "#ridge, apply the best parameters\n",
    "X_train_exp = expand_basis(X_train_std, best_degree_ridge)\n",
    "X_test_exp = expand_basis(X_test_std, best_degree_ridge)\n",
    "\n",
    "std_scaler.fit(X_train_exp)\n",
    "X_train_exp=std_scaler.transform(X_train_exp)\n",
    "X_test_exp=std_scaler.transform(X_test_exp)\n",
    "\n",
    "ridge = Ridge(alpha = best_lam_ridge)\n",
    "ridge.fit(X_train_exp, y_train)\n",
    "y_predicted_ridge = ridge.predict(X_test_exp)\n",
    "ridge_mse = mean_squared_error(y_test, y_predicted_ridge)\n",
    "\n",
    "#lasso, apply the best parameters\n",
    "X_train_exp = expand_basis(X_train_std, best_degree_lasso)\n",
    "X_test_exp = expand_basis(X_test_std, best_degree_lasso)\n",
    "\n",
    "std_scaler.fit(X_train_exp)\n",
    "X_train_exp=std_scaler.transform(X_train_exp)\n",
    "X_test_exp=std_scaler.transform(X_test_exp)\n",
    "\n",
    "lasso = Lasso(alpha = best_lam_lasso)\n",
    "lasso.fit(X_train_exp, y_train)\n",
    "y_predicted_lasso = lasso.predict(X_test_exp)\n",
    "lasso_mse = mean_squared_error(y_test, y_predicted_lasso)\n",
    "\n",
    "print(\"Min ridge average MSE for k-cross validation : %.4f\" % min_mse_ridge)\n",
    "print(\"Optimal degree ridge : %.4f\" % best_degree_ridge)\n",
    "print(\"Optimal lambda ridge : %.4f\" % best_lam_ridge)\n",
    "print(\"MSE ridge on test set : %.4f\" % ridge_mse)\n",
    "print(\"----------------------------------\")\n",
    "print(\"Min lasso average MSE for k-cross validation : %.4f\" % min_mse_lasso)\n",
    "print(\"Optimal degree lasso : %.4f\" % best_degree_lasso)\n",
    "print(\"Optimal lambda lasso : %.4f\" % best_lam_lasso)\n",
    "print(\"MSE lasso on test set: %.4f\" % lasso_mse)\n",
    "\n",
    "###################################################\n",
    "##### YOUR CODE ENDS HERE #########################\n",
    "###################################################"
   ]
  }
 ],
 "metadata": {
  "colab": {
   "collapsed_sections": [],
   "name": "Practical1_starter.ipynb",
   "provenance": [
    {
     "file_id": "https://github.com/dastuzh/FDS21-M67/blob/master/Practical1/Practical1_skeleton.ipynb",
     "timestamp": 1634988426169
    }
   ]
  },
  "deepnote": {},
  "deepnote_execution_queue": [],
  "deepnote_notebook_id": "5ae21198-aa78-4fe5-974f-2f194bd2695c",
  "kernelspec": {
   "display_name": "Python 3",
   "language": "python",
   "name": "python3"
  },
  "language_info": {
   "codemirror_mode": {
    "name": "ipython",
    "version": 3
   },
   "file_extension": ".py",
   "mimetype": "text/x-python",
   "name": "python",
   "nbconvert_exporter": "python",
   "pygments_lexer": "ipython3",
   "version": "3.9.2"
  }
 },
 "nbformat": 4,
 "nbformat_minor": 0
}
